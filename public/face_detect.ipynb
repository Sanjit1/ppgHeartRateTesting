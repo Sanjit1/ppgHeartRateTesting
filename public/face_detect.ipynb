{
 "cells": [
  {
   "cell_type": "code",
   "execution_count": 22,
   "metadata": {},
   "outputs": [],
   "source": [
    "# we have an avi file, so we want to show the video"
   ]
  },
  {
   "cell_type": "code",
   "execution_count": 23,
   "metadata": {},
   "outputs": [
    {
     "name": "stdout",
     "output_type": "stream",
     "text": [
      "Requirement already satisfied: matplotlib in c:\\users\\sanji\\appdata\\local\\programs\\python\\python310\\lib\\site-packages (3.7.0)\n",
      "Requirement already satisfied: numpy>=1.20 in c:\\users\\sanji\\appdata\\local\\programs\\python\\python310\\lib\\site-packages (from matplotlib) (1.24.2)\n",
      "Requirement already satisfied: pillow>=6.2.0 in c:\\users\\sanji\\appdata\\local\\programs\\python\\python310\\lib\\site-packages (from matplotlib) (9.4.0)\n",
      "Requirement already satisfied: kiwisolver>=1.0.1 in c:\\users\\sanji\\appdata\\local\\programs\\python\\python310\\lib\\site-packages (from matplotlib) (1.4.4)\n",
      "Requirement already satisfied: contourpy>=1.0.1 in c:\\users\\sanji\\appdata\\local\\programs\\python\\python310\\lib\\site-packages (from matplotlib) (1.0.7)\n",
      "Requirement already satisfied: fonttools>=4.22.0 in c:\\users\\sanji\\appdata\\local\\programs\\python\\python310\\lib\\site-packages (from matplotlib) (4.38.0)\n",
      "Requirement already satisfied: pyparsing>=2.3.1 in c:\\users\\sanji\\appdata\\local\\programs\\python\\python310\\lib\\site-packages (from matplotlib) (3.0.9)\n",
      "Requirement already satisfied: cycler>=0.10 in c:\\users\\sanji\\appdata\\local\\programs\\python\\python310\\lib\\site-packages (from matplotlib) (0.11.0)\n",
      "Requirement already satisfied: packaging>=20.0 in c:\\users\\sanji\\appdata\\roaming\\python\\python310\\site-packages (from matplotlib) (23.0)\n",
      "Requirement already satisfied: python-dateutil>=2.7 in c:\\users\\sanji\\appdata\\roaming\\python\\python310\\site-packages (from matplotlib) (2.8.2)\n",
      "Requirement already satisfied: six>=1.5 in c:\\users\\sanji\\appdata\\roaming\\python\\python310\\site-packages (from python-dateutil>=2.7->matplotlib) (1.16.0)\n"
     ]
    },
    {
     "name": "stderr",
     "output_type": "stream",
     "text": [
      "WARNING: You are using pip version 22.0.4; however, version 23.0 is available.\n",
      "You should consider upgrading via the 'c:\\Users\\sanji\\AppData\\Local\\Programs\\Python\\Python310\\python.exe -m pip install --upgrade pip' command.\n"
     ]
    },
    {
     "name": "stdout",
     "output_type": "stream",
     "text": [
      "Requirement already satisfied: opencv-python in c:\\users\\sanji\\appdata\\local\\programs\\python\\python310\\lib\\site-packages (4.7.0.68)\n",
      "Requirement already satisfied: numpy>=1.17.3 in c:\\users\\sanji\\appdata\\local\\programs\\python\\python310\\lib\\site-packages (from opencv-python) (1.24.2)\n"
     ]
    },
    {
     "name": "stderr",
     "output_type": "stream",
     "text": [
      "WARNING: You are using pip version 22.0.4; however, version 23.0 is available.\n",
      "You should consider upgrading via the 'c:\\Users\\sanji\\AppData\\Local\\Programs\\Python\\Python310\\python.exe -m pip install --upgrade pip' command.\n"
     ]
    },
    {
     "name": "stdout",
     "output_type": "stream",
     "text": [
      "Requirement already satisfied: albumentations in c:\\users\\sanji\\appdata\\roaming\\python\\python310\\site-packages (1.3.0)\n",
      "Requirement already satisfied: PyYAML in c:\\users\\sanji\\appdata\\local\\programs\\python\\python310\\lib\\site-packages (from albumentations) (6.0)\n",
      "Requirement already satisfied: opencv-python-headless>=4.1.1 in c:\\users\\sanji\\appdata\\roaming\\python\\python310\\site-packages (from albumentations) (4.7.0.68)\n",
      "Requirement already satisfied: scipy in c:\\users\\sanji\\appdata\\local\\programs\\python\\python310\\lib\\site-packages (from albumentations) (1.10.0)\n",
      "Requirement already satisfied: scikit-image>=0.16.1 in c:\\users\\sanji\\appdata\\roaming\\python\\python310\\site-packages (from albumentations) (0.19.3)\n",
      "Requirement already satisfied: numpy>=1.11.1 in c:\\users\\sanji\\appdata\\local\\programs\\python\\python310\\lib\\site-packages (from albumentations) (1.24.2)\n",
      "Requirement already satisfied: qudida>=0.0.4 in c:\\users\\sanji\\appdata\\roaming\\python\\python310\\site-packages (from albumentations) (0.0.4)\n",
      "Requirement already satisfied: typing-extensions in c:\\users\\sanji\\appdata\\local\\programs\\python\\python310\\lib\\site-packages (from qudida>=0.0.4->albumentations) (4.4.0)\n",
      "Requirement already satisfied: scikit-learn>=0.19.1 in c:\\users\\sanji\\appdata\\roaming\\python\\python310\\site-packages (from qudida>=0.0.4->albumentations) (1.2.1)\n",
      "Requirement already satisfied: tifffile>=2019.7.26 in c:\\users\\sanji\\appdata\\local\\programs\\python\\python310\\lib\\site-packages (from scikit-image>=0.16.1->albumentations) (2023.2.3)\n",
      "Requirement already satisfied: imageio>=2.4.1 in c:\\users\\sanji\\appdata\\roaming\\python\\python310\\site-packages (from scikit-image>=0.16.1->albumentations) (2.25.1)\n",
      "Requirement already satisfied: networkx>=2.2 in c:\\users\\sanji\\appdata\\roaming\\python\\python310\\site-packages (from scikit-image>=0.16.1->albumentations) (3.0)\n",
      "Requirement already satisfied: PyWavelets>=1.1.1 in c:\\users\\sanji\\appdata\\local\\programs\\python\\python310\\lib\\site-packages (from scikit-image>=0.16.1->albumentations) (1.4.1)\n",
      "Requirement already satisfied: packaging>=20.0 in c:\\users\\sanji\\appdata\\roaming\\python\\python310\\site-packages (from scikit-image>=0.16.1->albumentations) (23.0)\n",
      "Requirement already satisfied: pillow!=7.1.0,!=7.1.1,!=8.3.0,>=6.1.0 in c:\\users\\sanji\\appdata\\local\\programs\\python\\python310\\lib\\site-packages (from scikit-image>=0.16.1->albumentations) (9.4.0)\n",
      "Requirement already satisfied: threadpoolctl>=2.0.0 in c:\\users\\sanji\\appdata\\local\\programs\\python\\python310\\lib\\site-packages (from scikit-learn>=0.19.1->qudida>=0.0.4->albumentations) (3.1.0)\n",
      "Requirement already satisfied: joblib>=1.1.1 in c:\\users\\sanji\\appdata\\roaming\\python\\python310\\site-packages (from scikit-learn>=0.19.1->qudida>=0.0.4->albumentations) (1.2.0)\n"
     ]
    },
    {
     "name": "stderr",
     "output_type": "stream",
     "text": [
      "WARNING: You are using pip version 22.0.4; however, version 23.0 is available.\n",
      "You should consider upgrading via the 'c:\\Users\\sanji\\AppData\\Local\\Programs\\Python\\Python310\\python.exe -m pip install --upgrade pip' command.\n"
     ]
    },
    {
     "name": "stdout",
     "output_type": "stream",
     "text": [
      "Requirement already satisfied: tensorboard in c:\\users\\sanji\\appdata\\local\\programs\\python\\python310\\lib\\site-packages (2.12.0)\n",
      "Requirement already satisfied: wheel>=0.26 in c:\\users\\sanji\\appdata\\local\\programs\\python\\python310\\lib\\site-packages (from tensorboard) (0.38.4)\n",
      "Requirement already satisfied: grpcio>=1.48.2 in c:\\users\\sanji\\appdata\\local\\programs\\python\\python310\\lib\\site-packages (from tensorboard) (1.51.1)\n",
      "Requirement already satisfied: protobuf>=3.19.6 in c:\\users\\sanji\\appdata\\local\\programs\\python\\python310\\lib\\site-packages (from tensorboard) (4.21.12)\n",
      "Requirement already satisfied: setuptools>=41.0.0 in c:\\users\\sanji\\appdata\\local\\programs\\python\\python310\\lib\\site-packages (from tensorboard) (58.1.0)\n",
      "Requirement already satisfied: requests<3,>=2.21.0 in c:\\users\\sanji\\appdata\\local\\programs\\python\\python310\\lib\\site-packages (from tensorboard) (2.28.2)\n",
      "Requirement already satisfied: numpy>=1.12.0 in c:\\users\\sanji\\appdata\\local\\programs\\python\\python310\\lib\\site-packages (from tensorboard) (1.24.2)\n",
      "Requirement already satisfied: markdown>=2.6.8 in c:\\users\\sanji\\appdata\\local\\programs\\python\\python310\\lib\\site-packages (from tensorboard) (3.4.1)\n",
      "Requirement already satisfied: werkzeug>=1.0.1 in c:\\users\\sanji\\appdata\\local\\programs\\python\\python310\\lib\\site-packages (from tensorboard) (2.2.2)\n",
      "Requirement already satisfied: absl-py>=0.4 in c:\\users\\sanji\\appdata\\local\\programs\\python\\python310\\lib\\site-packages (from tensorboard) (1.4.0)\n",
      "Requirement already satisfied: tensorboard-plugin-wit>=1.6.0 in c:\\users\\sanji\\appdata\\local\\programs\\python\\python310\\lib\\site-packages (from tensorboard) (1.8.1)\n",
      "Requirement already satisfied: google-auth-oauthlib<0.5,>=0.4.1 in c:\\users\\sanji\\appdata\\local\\programs\\python\\python310\\lib\\site-packages (from tensorboard) (0.4.6)\n",
      "Requirement already satisfied: tensorboard-data-server<0.8.0,>=0.7.0 in c:\\users\\sanji\\appdata\\local\\programs\\python\\python310\\lib\\site-packages (from tensorboard) (0.7.0)\n",
      "Requirement already satisfied: google-auth<3,>=1.6.3 in c:\\users\\sanji\\appdata\\local\\programs\\python\\python310\\lib\\site-packages (from tensorboard) (2.16.0)\n",
      "Requirement already satisfied: pyasn1-modules>=0.2.1 in c:\\users\\sanji\\appdata\\local\\programs\\python\\python310\\lib\\site-packages (from google-auth<3,>=1.6.3->tensorboard) (0.2.8)\n",
      "Requirement already satisfied: cachetools<6.0,>=2.0.0 in c:\\users\\sanji\\appdata\\local\\programs\\python\\python310\\lib\\site-packages (from google-auth<3,>=1.6.3->tensorboard) (5.3.0)\n",
      "Requirement already satisfied: six>=1.9.0 in c:\\users\\sanji\\appdata\\roaming\\python\\python310\\site-packages (from google-auth<3,>=1.6.3->tensorboard) (1.16.0)\n",
      "Requirement already satisfied: rsa<5,>=3.1.4 in c:\\users\\sanji\\appdata\\local\\programs\\python\\python310\\lib\\site-packages (from google-auth<3,>=1.6.3->tensorboard) (4.9)\n",
      "Requirement already satisfied: requests-oauthlib>=0.7.0 in c:\\users\\sanji\\appdata\\local\\programs\\python\\python310\\lib\\site-packages (from google-auth-oauthlib<0.5,>=0.4.1->tensorboard) (1.3.1)\n",
      "Requirement already satisfied: idna<4,>=2.5 in c:\\users\\sanji\\appdata\\local\\programs\\python\\python310\\lib\\site-packages (from requests<3,>=2.21.0->tensorboard) (3.4)\n",
      "Requirement already satisfied: charset-normalizer<4,>=2 in c:\\users\\sanji\\appdata\\local\\programs\\python\\python310\\lib\\site-packages (from requests<3,>=2.21.0->tensorboard) (3.0.1)\n",
      "Requirement already satisfied: urllib3<1.27,>=1.21.1 in c:\\users\\sanji\\appdata\\local\\programs\\python\\python310\\lib\\site-packages (from requests<3,>=2.21.0->tensorboard) (1.26.14)\n",
      "Requirement already satisfied: certifi>=2017.4.17 in c:\\users\\sanji\\appdata\\local\\programs\\python\\python310\\lib\\site-packages (from requests<3,>=2.21.0->tensorboard) (2022.12.7)\n",
      "Requirement already satisfied: MarkupSafe>=2.1.1 in c:\\users\\sanji\\appdata\\local\\programs\\python\\python310\\lib\\site-packages (from werkzeug>=1.0.1->tensorboard) (2.1.2)\n",
      "Requirement already satisfied: pyasn1<0.5.0,>=0.4.6 in c:\\users\\sanji\\appdata\\local\\programs\\python\\python310\\lib\\site-packages (from pyasn1-modules>=0.2.1->google-auth<3,>=1.6.3->tensorboard) (0.4.8)\n",
      "Requirement already satisfied: oauthlib>=3.0.0 in c:\\users\\sanji\\appdata\\local\\programs\\python\\python310\\lib\\site-packages (from requests-oauthlib>=0.7.0->google-auth-oauthlib<0.5,>=0.4.1->tensorboard) (3.2.2)\n"
     ]
    },
    {
     "name": "stderr",
     "output_type": "stream",
     "text": [
      "WARNING: You are using pip version 22.0.4; however, version 23.0 is available.\n",
      "You should consider upgrading via the 'c:\\Users\\sanji\\AppData\\Local\\Programs\\Python\\Python310\\python.exe -m pip install --upgrade pip' command.\n"
     ]
    },
    {
     "name": "stdout",
     "output_type": "stream",
     "text": [
      "Collecting pytorch-ignite\n",
      "  Downloading pytorch_ignite-0.4.10-py3-none-any.whl (264 kB)\n",
      "     ------------------------------------- 264.1/264.1 KB 16.9 MB/s eta 0:00:00\n",
      "Requirement already satisfied: torch<2,>=1.3 in c:\\users\\sanji\\appdata\\local\\programs\\python\\python310\\lib\\site-packages (from pytorch-ignite) (1.13.1)\n",
      "Requirement already satisfied: packaging in c:\\users\\sanji\\appdata\\roaming\\python\\python310\\site-packages (from pytorch-ignite) (23.0)\n",
      "Requirement already satisfied: typing-extensions in c:\\users\\sanji\\appdata\\local\\programs\\python\\python310\\lib\\site-packages (from torch<2,>=1.3->pytorch-ignite) (4.4.0)\n",
      "Installing collected packages: pytorch-ignite\n",
      "Successfully installed pytorch-ignite-0.4.10\n"
     ]
    },
    {
     "name": "stderr",
     "output_type": "stream",
     "text": [
      "WARNING: You are using pip version 22.0.4; however, version 23.0 is available.\n",
      "You should consider upgrading via the 'c:\\Users\\sanji\\AppData\\Local\\Programs\\Python\\Python310\\python.exe -m pip install --upgrade pip' command.\n"
     ]
    },
    {
     "name": "stdout",
     "output_type": "stream",
     "text": [
      "Requirement already satisfied: torch in c:\\users\\sanji\\appdata\\local\\programs\\python\\python310\\lib\\site-packages (1.13.1)\n",
      "Requirement already satisfied: typing-extensions in c:\\users\\sanji\\appdata\\local\\programs\\python\\python310\\lib\\site-packages (from torch) (4.4.0)\n"
     ]
    },
    {
     "name": "stderr",
     "output_type": "stream",
     "text": [
      "WARNING: You are using pip version 22.0.4; however, version 23.0 is available.\n",
      "You should consider upgrading via the 'c:\\Users\\sanji\\AppData\\Local\\Programs\\Python\\Python310\\python.exe -m pip install --upgrade pip' command.\n"
     ]
    },
    {
     "name": "stdout",
     "output_type": "stream",
     "text": [
      "Requirement already satisfied: torchvision in c:\\users\\sanji\\appdata\\local\\programs\\python\\python310\\lib\\site-packages (0.14.1)"
     ]
    },
    {
     "name": "stderr",
     "output_type": "stream",
     "text": [
      "WARNING: You are using pip version 22.0.4; however, version 23.0 is available.\n",
      "You should consider upgrading via the 'c:\\Users\\sanji\\AppData\\Local\\Programs\\Python\\Python310\\python.exe -m pip install --upgrade pip' command.\n"
     ]
    },
    {
     "name": "stdout",
     "output_type": "stream",
     "text": [
      "\n",
      "Requirement already satisfied: pillow!=8.3.*,>=5.3.0 in c:\\users\\sanji\\appdata\\local\\programs\\python\\python310\\lib\\site-packages (from torchvision) (9.4.0)\n",
      "Requirement already satisfied: numpy in c:\\users\\sanji\\appdata\\local\\programs\\python\\python310\\lib\\site-packages (from torchvision) (1.24.2)\n",
      "Requirement already satisfied: typing-extensions in c:\\users\\sanji\\appdata\\local\\programs\\python\\python310\\lib\\site-packages (from torchvision) (4.4.0)\n",
      "Requirement already satisfied: requests in c:\\users\\sanji\\appdata\\local\\programs\\python\\python310\\lib\\site-packages (from torchvision) (2.28.2)\n",
      "Requirement already satisfied: torch==1.13.1 in c:\\users\\sanji\\appdata\\local\\programs\\python\\python310\\lib\\site-packages (from torchvision) (1.13.1)\n",
      "Requirement already satisfied: charset-normalizer<4,>=2 in c:\\users\\sanji\\appdata\\local\\programs\\python\\python310\\lib\\site-packages (from requests->torchvision) (3.0.1)\n",
      "Requirement already satisfied: idna<4,>=2.5 in c:\\users\\sanji\\appdata\\local\\programs\\python\\python310\\lib\\site-packages (from requests->torchvision) (3.4)\n",
      "Requirement already satisfied: certifi>=2017.4.17 in c:\\users\\sanji\\appdata\\local\\programs\\python\\python310\\lib\\site-packages (from requests->torchvision) (2022.12.7)\n",
      "Requirement already satisfied: urllib3<1.27,>=1.21.1 in c:\\users\\sanji\\appdata\\local\\programs\\python\\python310\\lib\\site-packages (from requests->torchvision) (1.26.14)\n"
     ]
    }
   ],
   "source": [
    "!python -m pip install matplotlib \n",
    "!python -m pip install opencv-python\n",
    "!python -m pip install albumentations --user\n",
    "!python -m pip install tensorboard --user\n",
    "!python -m pip install pytorch-ignite --user\n",
    "!python -m pip install torch\n",
    "!python -m pip install torchvision"
   ]
  },
  {
   "cell_type": "code",
   "execution_count": 24,
   "metadata": {},
   "outputs": [],
   "source": [
    "import cv2\n",
    "import numpy as np\n",
    "import matplotlib.pyplot as plt\n",
    "from torchvision import transforms\n",
    "import torch\n",
    "\n",
    "from semantic_segmentation import models\n",
    "from semantic_segmentation import load_model\n",
    "from semantic_segmentation import draw_results\n",
    "\n",
    "\n"
   ]
  },
  {
   "cell_type": "code",
   "execution_count": 58,
   "metadata": {},
   "outputs": [
    {
     "data": {
      "text/plain": [
       "False"
      ]
     },
     "execution_count": 58,
     "metadata": {},
     "output_type": "execute_result"
    }
   ],
   "source": [
    "torch.cuda.is_available()"
   ]
  },
  {
   "cell_type": "code",
   "execution_count": 86,
   "metadata": {},
   "outputs": [
    {
     "name": "stderr",
     "output_type": "stream",
     "text": [
      "c:\\Users\\sanji\\AppData\\Local\\Programs\\Python\\Python310\\lib\\site-packages\\torchvision\\models\\_utils.py:208: UserWarning: The parameter 'pretrained' is deprecated since 0.13 and may be removed in the future, please use 'weights' instead.\n",
      "  warnings.warn(\n",
      "c:\\Users\\sanji\\AppData\\Local\\Programs\\Python\\Python310\\lib\\site-packages\\torchvision\\models\\_utils.py:223: UserWarning: Arguments other than a weight enum or `None` for 'weights' are deprecated since 0.13 and may be removed in the future. The current behavior is equivalent to passing `weights=FCN_ResNet101_Weights.COCO_WITH_VOC_LABELS_V1`. You can also use `weights=FCN_ResNet101_Weights.DEFAULT` to get the most up-to-date weights.\n",
      "  warnings.warn(msg)\n",
      "Downloading: \"https://download.pytorch.org/models/fcn_resnet101_coco-7ecb50ca.pth\" to C:\\Users\\sanji/.cache\\torch\\hub\\checkpoints\\fcn_resnet101_coco-7ecb50ca.pth\n",
      "100.0%\n"
     ]
    },
    {
     "name": "stdout",
     "output_type": "stream",
     "text": [
      "[[[164 162 147]\n",
      "  [163 161 145]\n",
      "  [164 162 147]\n",
      "  ...\n",
      "  [179 171 154]\n",
      "  [178 168 156]\n",
      "  [178 168 156]]\n",
      "\n",
      " [[163 161 145]\n",
      "  [163 161 145]\n",
      "  [163 161 145]\n",
      "  ...\n",
      "  [179 171 154]\n",
      "  [179 170 157]\n",
      "  [178 168 156]]\n",
      "\n",
      " [[162 158 143]\n",
      "  [164 160 144]\n",
      "  [165 161 145]\n",
      "  ...\n",
      "  [172 170 155]\n",
      "  [172 170 155]\n",
      "  [171 169 154]]\n",
      "\n",
      " ...\n",
      "\n",
      " [[160 158 145]\n",
      "  [160 158 145]\n",
      "  [160 158 145]\n",
      "  ...\n",
      "  [172 182 171]\n",
      "  [174 182 171]\n",
      "  [172 180 170]]\n",
      "\n",
      " [[156 158 146]\n",
      "  [156 158 146]\n",
      "  [158 158 146]\n",
      "  ...\n",
      "  [172 182 171]\n",
      "  [174 182 171]\n",
      "  [172 180 170]]\n",
      "\n",
      " [[155 157 145]\n",
      "  [156 158 146]\n",
      "  [158 158 146]\n",
      "  ...\n",
      "  [173 183 172]\n",
      "  [174 182 171]\n",
      "  [174 182 171]]]\n",
      "[0.00260479 0.00260479 0.00260479 0.00260479 0.00257318 0.00251112\n",
      " 0.00245055 0.00239143 0.00233374 0.00227744 0.00222249 0.00216887\n",
      " 0.00215796 0.00218912 0.00222073 0.00225279 0.00228532 0.00231832\n",
      " 0.00235179 0.00238574 0.00239785 0.00238777 0.00237773 0.00236774\n",
      " 0.00235779 0.00234788 0.00233801 0.00232818 0.00231502 0.00229859\n",
      " 0.00228227 0.00226607 0.00224998 0.00223401 0.00221815 0.0022024\n",
      " 0.00219208 0.00218711 0.00218215 0.00217721 0.00217227 0.00216734\n",
      " 0.00216243 0.00215753 0.00215629 0.00215872 0.00216115 0.00216358\n",
      " 0.00216602 0.00216846 0.0021709  0.00217335 0.00217571 0.00217798\n",
      " 0.00218026 0.00218254 0.00218482 0.00218711 0.0021894  0.00219169\n",
      " 0.00219358 0.00219508 0.00219657 0.00219807 0.00219957 0.00220107\n",
      " 0.00220257 0.00220407 0.00219944 0.00218869 0.002178   0.00216736\n",
      " 0.00215678 0.00214624 0.00213576 0.00212533 0.00210685 0.00208054\n",
      " 0.00205455 0.00202889 0.00200355 0.00197853 0.00195381 0.00192941\n",
      " 0.00191689 0.00191602 0.00191516 0.0019143  0.00191344 0.00191258\n",
      " 0.00191172 0.00191086 0.00191421 0.0019218  0.00192943 0.00193708\n",
      " 0.00194477 0.00195248 0.00196023 0.001968   0.00197186 0.00197178\n",
      " 0.00197169 0.00197161 0.00197153 0.00197145 0.00197136 0.00197128\n",
      " 0.00196415 0.00195006 0.00193607 0.00192218 0.00190839 0.0018947\n",
      " 0.00188111 0.00186761 0.00186236 0.0018653  0.00186824 0.00187119\n",
      " 0.00187414 0.00187709 0.00188005 0.00188301 0.00189041 0.00190229\n",
      " 0.00191424 0.00192627 0.00193838 0.00195056 0.00196281 0.00197515\n",
      " 0.00198777 0.0020007  0.00201371 0.0020268  0.00203998 0.00205324\n",
      " 0.00206659 0.00208003 0.00209065 0.00209843 0.00210623 0.00211406\n",
      " 0.00212192 0.00212982 0.00213773 0.00214568 0.00215008 0.00215091\n",
      " 0.00215173 0.00215256 0.00215339 0.00215421 0.00215504 0.00215587\n",
      " 0.00215583 0.00215492 0.00215402 0.00215312 0.00215221 0.00215131\n",
      " 0.00215041 0.00214951 0.00214888 0.00214854 0.00214819 0.00214784\n",
      " 0.0021475  0.00214715 0.0021468  0.00214646 0.00214802 0.0021515\n",
      " 0.00215499 0.00215848 0.00216198 0.00216548 0.00216899 0.00217251\n",
      " 0.00217296 0.00217034 0.00216772 0.0021651  0.00216249 0.00215988\n",
      " 0.00215728 0.00215467 0.00215184 0.00214879 0.00214573 0.00214269\n",
      " 0.00213964 0.0021366  0.00213357 0.00213054 0.00212379 0.00211338\n",
      " 0.00210301 0.00209269 0.00208243 0.00207221 0.00206205 0.00205193\n",
      " 0.00204197 0.00203216 0.00202241 0.00201269 0.00200303 0.00199341\n",
      " 0.00198384 0.00197431 0.00196707 0.0019621  0.00195713 0.00195218\n",
      " 0.00194725 0.00194232 0.00193741 0.00193251 0.00192981 0.0019293\n",
      " 0.00192879 0.00192829 0.00192778 0.00192727 0.00192676 0.00192626\n",
      " 0.00193158 0.00194278 0.00195405 0.00196538 0.00197678 0.00198825\n",
      " 0.00199978 0.00201137 0.00202083 0.00202812 0.00203543 0.00204276\n",
      " 0.00205013 0.00205752 0.00206494 0.00207238 0.00207716 0.00207925\n",
      " 0.00208135 0.00208344 0.00208554 0.00208764 0.00208974 0.00209185\n",
      " 0.00209518 0.00209975 0.00210432 0.00210891 0.0021135  0.00211811\n",
      " 0.00212272 0.00212735 0.00213551 0.00214725 0.00215905 0.00217092\n",
      " 0.00218285 0.00219485 0.00220692 0.00221905 0.00222895 0.00223658\n",
      " 0.00224424 0.00225192 0.00225964 0.00226737 0.00227514 0.00228293\n",
      " 0.00228574 0.00228355 0.00228137 0.00227918 0.002277   0.00227482\n",
      " 0.00227265 0.00227047 0.00226682 0.0022617  0.00225659 0.00225149\n",
      " 0.00224641 0.00224134 0.00223627 0.00223122 0.00222307 0.00221184\n",
      " 0.00220066 0.00218955 0.00217849 0.00216748 0.00215653 0.00214564\n",
      " 0.00213721 0.00213124 0.00212527 0.00211933 0.0021134  0.00210749\n",
      " 0.00210159 0.00209571 0.00208653 0.00207409 0.00206173 0.00204943\n",
      " 0.00203722 0.00202507 0.002013   0.00200099 0.0019927  0.00198806\n",
      " 0.00198344 0.00197882 0.00197422 0.00196963 0.00196504 0.00196047\n",
      " 0.00196003 0.0019637  0.00196738 0.00197107 0.00197477 0.00197847\n",
      " 0.00198218 0.0019859  0.00199196 0.00200037 0.00200882 0.0020173\n",
      " 0.00202583 0.00203438 0.00204298 0.0020516  0.00205715 0.00205959\n",
      " 0.00206203 0.00206448 0.00206692 0.00206937 0.00207183 0.00207428\n",
      " 0.00207373 0.00207016 0.0020666  0.00206304 0.00205949 0.00205595\n",
      " 0.00205241 0.00204888 0.00204193 0.00203162 0.00202135 0.00201114\n",
      " 0.00200097 0.00199086 0.0019808  0.00197079 0.00196274 0.00195664\n",
      " 0.00195055 0.00194448 0.00193843 0.0019324  0.00192639 0.00192039\n",
      " 0.00191326 0.00190499 0.00189676 0.00188857 0.00188041 0.00187228\n",
      " 0.00186419 0.00185614 0.00185353 0.00185634 0.00185915 0.00186197\n",
      " 0.00186479 0.00186762 0.00187045 0.00187328 0.00187474 0.00187481\n",
      " 0.00187489 0.00187496 0.00187504 0.00187511 0.00187519 0.00187527\n",
      " 0.0018733  0.0018693  0.00186532 0.00186134 0.00185736 0.0018534\n",
      " 0.00184945 0.0018455  0.00184355 0.00184359 0.00184364 0.00184368\n",
      " 0.00184372 0.00184376 0.00184381 0.00184385 0.00184504 0.00184738\n",
      " 0.00184972 0.00185207 0.00185442 0.00185677 0.00185912 0.00186148\n",
      " 0.00186474 0.00186891 0.00187309 0.00187728 0.00188148 0.00188569\n",
      " 0.00188991 0.00189413 0.00189505 0.00189267 0.00189029 0.00188791\n",
      " 0.00188554 0.00188316 0.00188079 0.00187843 0.00187594 0.00187334\n",
      " 0.00187075 0.00186816 0.00186557 0.00186298 0.0018604  0.00185782\n",
      " 0.00185408 0.00184917 0.00184428 0.00183941 0.00183454 0.00182969\n",
      " 0.00182485 0.00182002 0.0018151  0.00181008 0.00180508 0.00180009\n",
      " 0.00179512 0.00179016 0.00178521 0.00178028 0.00177749 0.00177684\n",
      " 0.00177619 0.00177555 0.0017749  0.00177425 0.00177361 0.00177296\n",
      " 0.00177452 0.0017783  0.00178209 0.00178588 0.00178968 0.00179349\n",
      " 0.00179731 0.00180114 0.00180368 0.00180494 0.0018062  0.00180746\n",
      " 0.00180872 0.00180998 0.00181124 0.00181251 0.00181176 0.00180901\n",
      " 0.00180626 0.00180352 0.00180078 0.00179804 0.00179531 0.00179259\n",
      " 0.00179086 0.00179013 0.00178941 0.00178868 0.00178795 0.00178723\n",
      " 0.0017865  0.00178577 0.00178584 0.00178671 0.00178758 0.00178844\n",
      " 0.00178931 0.00179018 0.00179105 0.00179192 0.00179453 0.00179891\n",
      " 0.00180329 0.00180768 0.00181209 0.00181651 0.00182093 0.00182537\n",
      " 0.00183276 0.00184314 0.00185357 0.00186406 0.00187462 0.00188523\n",
      " 0.0018959  0.00190663 0.00191675 0.00192625 0.0019358  0.00194539\n",
      " 0.00195502 0.00196471 0.00197444 0.00198423 0.00198903 0.00198882\n",
      " 0.0019886  0.00198839 0.00198818 0.00198797 0.00198776 0.00198754\n",
      " 0.00198568 0.00198216 0.00197865 0.00197515 0.00197165 0.00196816\n",
      " 0.00196467 0.0019612  0.00196349 0.00197157 0.00197968 0.00198782\n",
      " 0.001996   0.00200422 0.00201246 0.00202074 0.0020326  0.00204811\n",
      " 0.00206373 0.00207947 0.00209533 0.0021113  0.00212741 0.00214363\n",
      " 0.00215377 0.00215773 0.00216169 0.00216567 0.00216965 0.00217364\n",
      " 0.00217764 0.00218164 0.00218234 0.00217974 0.00217713 0.00217453\n",
      " 0.00217194 0.00216934 0.00216675 0.00216416 0.00215869 0.00215035\n",
      " 0.00214205 0.00213378 0.00212554 0.00211733 0.00210916 0.00210101\n",
      " 0.00209016 0.00207664 0.00206321 0.00204987 0.00203662 0.00202344\n",
      " 0.00201036 0.00199736 0.0019921  0.00199451 0.00199694 0.00199936\n",
      " 0.00200179 0.00200422 0.00200665 0.00200909 0.0020191  0.00203679\n",
      " 0.00205463 0.00207263 0.00209079 0.00210911 0.00212758 0.00214622\n",
      " 0.00215415 0.00215124 0.00214834 0.00214545 0.00214255 0.00213966\n",
      " 0.00213678 0.0021339  0.0021176  0.00208819 0.00205919 0.00203058\n",
      " 0.00200238 0.00197457 0.00194714 0.00192009 0.00196798 0.00209647\n",
      " 0.00223334 0.00237911 0.00253438 0.00269976 0.0028759  0.00306349\n",
      " 0.00316181 0.00316181 0.00316181 0.00316181]\n"
     ]
    },
    {
     "ename": "",
     "evalue": "",
     "output_type": "error",
     "traceback": [
      "\u001b[1;31mThe Kernel crashed while executing code in the the current cell or a previous cell. Please review the code in the cell(s) to identify a possible cause of the failure. Click <a href='https://aka.ms/vscodeJupyterKernelCrash'>here</a> for more info. View Jupyter <a href='command:jupyter.viewOutput'>log</a> for further details."
     ]
    }
   ],
   "source": [
    "device = 'cuda' if torch.cuda.is_available() else 'cpu'\n",
    "\n",
    "model = torch.load('./pretrained/model_segmentation_skin_30.pth', map_location=device)\n",
    "model = load_model(models['FCNResNet101'], model)\n",
    "model.to(device).eval()\n",
    "cap = cv2.VideoCapture('vid.avi')\n",
    "# take the first frame\n",
    "ret, frame = cap.read()\n",
    "# show the first frame\n",
    "cv2.imshow('frame', frame)\n",
    "print(frame)\n",
    "fn_image_transform = transforms.Compose(\n",
    "        [\n",
    "            transforms.Lambda(lambda im: im),\n",
    "            transforms.ToTensor(),\n",
    "            transforms.Normalize(mean=(0.485, 0.456, 0.406), std=(0.229, 0.224, 0.225)),\n",
    "        ]\n",
    "    )\n",
    "\n",
    "image = fn_image_transform(frame)\n",
    "with torch.no_grad():\n",
    "    image = image.to(device).unsqueeze(0)\n",
    "    results = model(image)['out']\n",
    "    results = torch.sigmoid(results)\n",
    "    # we want to show the results using cv2\n",
    "    results = results.squeeze().cpu().numpy()\n",
    "    print(results[0])\n",
    "    # plot the histogram\n",
    "    results = results > 0.05\n",
    "    # for each index in the results, we want to get the corresponding pixel in the image if the index is true\n",
    "    # we want to get the pixel in the image and set it to 0"
   ]
  },
  {
   "cell_type": "code",
   "execution_count": 68,
   "metadata": {},
   "outputs": [],
   "source": [
    "cap.release()\n",
    "cv2.destroyAllWindows()"
   ]
  },
  {
   "cell_type": "code",
   "execution_count": 65,
   "metadata": {},
   "outputs": [
    {
     "ename": "KeyboardInterrupt",
     "evalue": "",
     "output_type": "error",
     "traceback": [
      "\u001b[1;31m---------------------------------------------------------------------------\u001b[0m",
      "\u001b[1;31mKeyboardInterrupt\u001b[0m                         Traceback (most recent call last)",
      "Cell \u001b[1;32mIn[65], line 8\u001b[0m\n\u001b[0;32m      6\u001b[0m \u001b[39mif\u001b[39;00m ret \u001b[39m==\u001b[39m \u001b[39mTrue\u001b[39;00m:\n\u001b[0;32m      7\u001b[0m     cv2\u001b[39m.\u001b[39mimshow(\u001b[39m'\u001b[39m\u001b[39mframe\u001b[39m\u001b[39m'\u001b[39m,frame)\n\u001b[1;32m----> 8\u001b[0m     \u001b[39mif\u001b[39;00m cv2\u001b[39m.\u001b[39;49mwaitKey(\u001b[39m15\u001b[39;49m) \u001b[39m&\u001b[39m \u001b[39m0xFF\u001b[39m \u001b[39m==\u001b[39m \u001b[39mord\u001b[39m(\u001b[39m'\u001b[39m\u001b[39mq\u001b[39m\u001b[39m'\u001b[39m):\n\u001b[0;32m      9\u001b[0m         \u001b[39mbreak\u001b[39;00m\n\u001b[0;32m     10\u001b[0m \u001b[39melse\u001b[39;00m:\n",
      "\u001b[1;31mKeyboardInterrupt\u001b[0m: "
     ]
    }
   ],
   "source": [
    "# read the avi file\n",
    "cap = cv2.VideoCapture('vid.avi')\n",
    "# show the video\n",
    "while(cap.isOpened()):\n",
    "    ret, frame = cap.read()\n",
    "    if ret == True:\n",
    "        cv2.imshow('frame',frame)\n",
    "        if cv2.waitKey(15) & 0xFF == ord('q'):\n",
    "            break\n",
    "    else:\n",
    "        break\n",
    "cap.release()\n",
    "cv2.destroyAllWindows()\n"
   ]
  },
  {
   "cell_type": "code",
   "execution_count": 84,
   "metadata": {},
   "outputs": [],
   "source": [
    "cap = cv2.VideoCapture('vid.avi')\n",
    "# show the video\n",
    "while(cap.isOpened()):\n",
    "    ret, frame = cap.read()\n",
    "    if ret == True:\n",
    "        # print(frame)\n",
    "        b = True\n",
    "        if (b):\n",
    "            fn_image_transform = transforms.Compose(\n",
    "                    [\n",
    "                        transforms.Lambda(lambda im: im),\n",
    "                        transforms.ToTensor(),\n",
    "                        transforms.Normalize(mean=(0.485, 0.456, 0.406), std=(0.229, 0.224, 0.225)),\n",
    "                    ]\n",
    "                )\n",
    "\n",
    "            image = fn_image_transform(frame)\n",
    "            with torch.no_grad():\n",
    "                image = image.to(device).unsqueeze(0)\n",
    "                results = model(image)['out']\n",
    "                results = torch.sigmoid(results)\n",
    "                # we want to show the results using cv2\n",
    "                results = results.squeeze().cpu().numpy()\n",
    "                # print(results[0])\n",
    "                # plot the histogram\n",
    "                results = results > 0.001\n",
    "                for i in range(results.shape[0]):\n",
    "                    for j in range(results.shape[1]):\n",
    "                        if (results[i][j]):\n",
    "                            frame[i][j] = 0\n",
    "                cv2.imshow('frame', frame)\n",
    "        \n",
    "        if cv2.waitKey(15) & 0xFF == ord('q'):\n",
    "            break  \n",
    "\n",
    "cap.release()\n",
    "cv2.destroyAllWindows()"
   ]
  }
 ],
 "metadata": {
  "kernelspec": {
   "display_name": "Python 3",
   "language": "python",
   "name": "python3"
  },
  "language_info": {
   "codemirror_mode": {
    "name": "ipython",
    "version": 3
   },
   "file_extension": ".py",
   "mimetype": "text/x-python",
   "name": "python",
   "nbconvert_exporter": "python",
   "pygments_lexer": "ipython3",
   "version": "3.10.5"
  },
  "orig_nbformat": 4,
  "vscode": {
   "interpreter": {
    "hash": "bfda26144f2ca058025d670c850e4d4e9f7c7a16b2124265db205428bd47e0eb"
   }
  }
 },
 "nbformat": 4,
 "nbformat_minor": 2
}
